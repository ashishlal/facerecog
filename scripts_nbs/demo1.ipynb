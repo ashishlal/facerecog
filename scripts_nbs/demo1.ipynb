{
 "cells": [
  {
   "cell_type": "code",
   "execution_count": 1,
   "metadata": {},
   "outputs": [
    {
     "name": "stderr",
     "output_type": "stream",
     "text": [
      "Using TensorFlow backend.\n"
     ]
    }
   ],
   "source": [
    "from keras.models import load_model\n",
    "from keras.preprocessing.image import load_img, save_img, img_to_array\n",
    "from keras.applications.imagenet_utils import preprocess_input\n",
    "\n",
    "import os\n",
    "import numpy as np"
   ]
  },
  {
   "cell_type": "code",
   "execution_count": 2,
   "metadata": {},
   "outputs": [],
   "source": [
    "def preprocess_image(image_path):\n",
    "    img = load_img(image_path, target_size=(160, 160))\n",
    "    img = img_to_array(img)\n",
    "    img = np.expand_dims(img, axis=0)\n",
    "    img = preprocess_input(img)\n",
    "    return img"
   ]
  },
  {
   "cell_type": "code",
   "execution_count": 15,
   "metadata": {},
   "outputs": [],
   "source": [
    "def l2_normalize(x):\n",
    "    return x / np.sqrt(np.sum(np.multiply(x, x)))\n",
    "\n",
    "def img_encoding(img, model):\n",
    "    return l2_normalize(model.predict(preprocess_image(img))[0,:])\n",
    "\n",
    "def findCosineSimilarity(source_representation, test_representation):\n",
    "    a = np.matmul(np.transpose(source_representation), test_representation)\n",
    "    b = np.sum(np.multiply(source_representation, source_representation))\n",
    "    c = np.sum(np.multiply(test_representation, test_representation))\n",
    "    return 1 - (a / (np.sqrt(b) * np.sqrt(c)))\n",
    "\n",
    "def findEuclideanDistance(source_representation, test_representation):\n",
    "    euclidean_distance = source_representation - test_representation\n",
    "    euclidean_distance = np.sum(np.multiply(euclidean_distance, euclidean_distance))\n",
    "    euclidean_distance = np.sqrt(euclidean_distance)\n",
    "    return euclidean_distance"
   ]
  },
  {
   "cell_type": "code",
   "execution_count": 4,
   "metadata": {},
   "outputs": [
    {
     "name": "stderr",
     "output_type": "stream",
     "text": [
      "/home/watts/anaconda3/envs/face/lib/python3.6/site-packages/keras/engine/saving.py:292: UserWarning: No training configuration found in save file: the model was *not* compiled. Compile it manually.\n",
      "  warnings.warn('No training configuration found in save file: '\n"
     ]
    }
   ],
   "source": [
    "facenet = load_model('../facenet/model/facenet_keras.h5')\n",
    "facenet.load_weights('../facenet/weights/facenet_keras_weights.h5')"
   ]
  },
  {
   "cell_type": "code",
   "execution_count": 5,
   "metadata": {},
   "outputs": [
    {
     "data": {
      "text/plain": [
       "['alan_grant', 'ashish_lal']"
      ]
     },
     "execution_count": 5,
     "metadata": {},
     "output_type": "execute_result"
    }
   ],
   "source": [
    "names = os.listdir('../data')\n",
    "names"
   ]
  },
  {
   "cell_type": "code",
   "execution_count": 9,
   "metadata": {},
   "outputs": [
    {
     "data": {
      "text/plain": [
       "['00000000.jpg', '00000001.jpg']"
      ]
     },
     "execution_count": 9,
     "metadata": {},
     "output_type": "execute_result"
    }
   ],
   "source": [
    "os.listdir('../data/ashish_lal')"
   ]
  },
  {
   "cell_type": "code",
   "execution_count": 11,
   "metadata": {},
   "outputs": [],
   "source": [
    "database = {}\n",
    "database['ashish_lal'] = img_encoding('../data/ashish_lal/00000000.jpg', facenet)\n",
    "database['alan_grant'] = img_encoding('../data/alan_grant/00000000.jpg', facenet)\n",
    "database['ivan_mihalj'] = img_encoding('../data/ivan_mihalj/00000000.jpg', facenet)"
   ]
  },
  {
   "cell_type": "code",
   "execution_count": 12,
   "metadata": {},
   "outputs": [
    {
     "data": {
      "text/plain": [
       "{'ashish_lal': array([-0.01370986,  0.01031274,  0.04226266, -0.01959547,  0.07199076,\n",
       "         0.06702723,  0.12433276, -0.08697861, -0.07726575, -0.18395115,\n",
       "         0.06496841, -0.10496227, -0.04495152,  0.00255465, -0.0439228 ,\n",
       "        -0.02441072,  0.016605  , -0.07915458, -0.0343685 , -0.04080522,\n",
       "         0.06391376, -0.14243747, -0.00180943,  0.13555625,  0.00748436,\n",
       "         0.15278836,  0.10780319, -0.0475584 , -0.0406029 , -0.08733521,\n",
       "         0.04424204,  0.16165218, -0.0432993 ,  0.00660421, -0.01393779,\n",
       "         0.11769649,  0.0744681 , -0.13040546,  0.02348057,  0.12845726,\n",
       "         0.08578849, -0.00045381,  0.04184864, -0.0298362 , -0.0592371 ,\n",
       "         0.10742971,  0.06585094,  0.03252796, -0.07556604, -0.18511447,\n",
       "         0.09660259, -0.00865372,  0.09835266,  0.07321197,  0.03286731,\n",
       "         0.21672012,  0.06989347, -0.09964103,  0.08735856,  0.07891384,\n",
       "        -0.01446648,  0.02332109,  0.06150658,  0.07716518,  0.00537212,\n",
       "         0.00862932,  0.19425616, -0.00969354,  0.06830161,  0.11941397,\n",
       "         0.07626783,  0.14238606, -0.00960859,  0.14618836, -0.10158631,\n",
       "         0.05282629, -0.04417366,  0.09838536, -0.13521191, -0.07965853,\n",
       "        -0.0264404 ,  0.06380622, -0.03596866, -0.0413566 ,  0.04606655,\n",
       "         0.01524189,  0.09105112, -0.15365452,  0.07455415,  0.03023455,\n",
       "         0.03553657, -0.05769322,  0.02850185, -0.00798234, -0.05912863,\n",
       "         0.18016005,  0.10680489, -0.11368387,  0.09684399,  0.09606261,\n",
       "        -0.11384073, -0.1270669 ,  0.04326203, -0.01639556,  0.000245  ,\n",
       "        -0.12187523, -0.16290267,  0.13986708,  0.09710764, -0.03932083,\n",
       "        -0.13626996, -0.01468322,  0.16639575, -0.05360057, -0.01940739,\n",
       "         0.10130066, -0.0192853 ,  0.11537758, -0.00621939, -0.10550842,\n",
       "         0.01645259, -0.07402663,  0.14480366, -0.04106383,  0.03186029,\n",
       "         0.04373669,  0.06025853, -0.17659721], dtype=float32),\n",
       " 'alan_grant': array([-5.71774058e-02, -3.38662937e-02,  6.78163208e-03,  2.57395674e-02,\n",
       "         5.07395677e-02,  5.63828424e-02,  9.10890251e-02, -5.89626171e-02,\n",
       "        -3.06227542e-02, -1.71999842e-01,  3.69715355e-02, -7.44781271e-02,\n",
       "        -7.78516158e-02, -7.65094021e-03, -9.47987810e-02, -5.70554584e-02,\n",
       "         7.01560602e-02, -5.97777683e-03, -6.45671487e-02, -5.59659563e-02,\n",
       "         7.82249048e-02, -2.05742881e-01,  1.12697938e-02,  8.73233974e-02,\n",
       "         3.25483233e-02,  1.32404178e-01,  9.30029452e-02, -1.03564605e-01,\n",
       "        -2.29770243e-02, -6.68602064e-02,  6.76140264e-02,  1.27103046e-01,\n",
       "        -5.05791008e-02, -6.82358071e-02, -1.91610493e-02,  6.20523505e-02,\n",
       "         9.80496556e-02, -1.84862018e-02, -1.69088189e-02,  1.38037652e-01,\n",
       "         8.99750963e-02,  4.88843434e-02,  1.10363759e-01,  1.15696993e-02,\n",
       "        -2.22472250e-02,  1.11835428e-01,  5.67455105e-02,  7.16553479e-02,\n",
       "        -6.56384453e-02, -1.58554941e-01,  1.05023652e-01, -4.21398226e-03,\n",
       "         1.34682849e-01,  8.75748172e-02,  3.88765857e-02,  2.09129527e-01,\n",
       "         9.31559950e-02, -8.38130936e-02,  9.48617682e-02,  8.27258974e-02,\n",
       "        -2.17543170e-03,  7.19757006e-02,  1.47866793e-02,  1.12191230e-01,\n",
       "         2.16194894e-02,  2.16827840e-02,  1.38420701e-01,  1.64550059e-02,\n",
       "         5.32000996e-02,  6.05035275e-02,  1.43571496e-02,  1.87733278e-01,\n",
       "        -6.43411726e-02,  1.05067134e-01, -1.04389623e-01,  5.05110528e-03,\n",
       "        -5.78319617e-02,  6.50192723e-02, -1.54398695e-01, -1.35239348e-01,\n",
       "        -4.54719700e-02,  5.83946221e-02, -2.68652644e-02, -6.90753534e-02,\n",
       "        -3.41796055e-02,  2.31066495e-02,  9.68826190e-02, -1.24552034e-01,\n",
       "        -7.61790900e-03,  4.59971204e-02,  2.92742951e-03, -7.94344321e-02,\n",
       "         3.35444435e-02, -1.58489551e-02, -7.06651285e-02,  1.51699796e-01,\n",
       "         1.67100847e-01, -1.10078171e-01,  1.20082438e-01,  1.13233127e-01,\n",
       "        -7.18160123e-02, -1.11981243e-01,  6.91739395e-02,  5.46883931e-03,\n",
       "         9.15441662e-03, -1.36442587e-01, -1.86633602e-01,  1.10085905e-01,\n",
       "         1.10367380e-01, -4.22748849e-02, -1.09907418e-01, -4.67801653e-02,\n",
       "         1.79642320e-01, -4.55097482e-02, -1.06434405e-01,  6.39558434e-02,\n",
       "        -6.56000301e-02,  1.49458766e-01, -1.63935518e-04, -1.16206698e-01,\n",
       "         1.63006987e-02, -9.08030942e-02,  1.08504921e-01, -3.23441103e-02,\n",
       "        -2.61598285e-02,  3.75396237e-02,  4.80416678e-02, -1.74787655e-01],\n",
       "       dtype=float32),\n",
       " 'ivan_mihalj': array([-0.03339762, -0.00187214, -0.01891627,  0.03420373,  0.01528498,\n",
       "         0.04205745,  0.10570987, -0.05375366, -0.05651963, -0.16923688,\n",
       "         0.06271353, -0.08265898, -0.04635861,  0.06129001, -0.05250052,\n",
       "        -0.11973754,  0.07002956, -0.06583895, -0.06766698, -0.01634852,\n",
       "         0.01601697, -0.20530333,  0.00353336,  0.08802439, -0.00289859,\n",
       "         0.1617611 ,  0.11629726, -0.06108509, -0.04074533, -0.12535985,\n",
       "         0.0486169 ,  0.15465179, -0.08079766, -0.04611196, -0.02287765,\n",
       "         0.07318551,  0.11238019, -0.10057949,  0.05855906,  0.07160448,\n",
       "         0.01873981,  0.03849191,  0.04893247, -0.0507982 , -0.05101498,\n",
       "         0.11373185,  0.07000285,  0.02934032, -0.05624093, -0.13886859,\n",
       "         0.14255854,  0.00617109,  0.1064373 ,  0.06323793,  0.04718268,\n",
       "         0.22351512,  0.03129748, -0.09427198,  0.11588469,  0.06124656,\n",
       "        -0.02495858,  0.07828199,  0.0805962 ,  0.0326054 ,  0.00773458,\n",
       "         0.07736088,  0.12540404,  0.01644021,  0.05753231,  0.1311513 ,\n",
       "         0.04849298,  0.1737902 ,  0.0174986 ,  0.07123502, -0.13664511,\n",
       "         0.058997  , -0.05169228,  0.00564274, -0.12559088, -0.12336655,\n",
       "        -0.04935554,  0.05969617, -0.03911443, -0.01140414,  0.00180715,\n",
       "         0.01335025,  0.0617242 , -0.16697608,  0.08883165,  0.032288  ,\n",
       "         0.03334321, -0.07942241, -0.03042814,  0.01393212, -0.08811314,\n",
       "         0.20348583,  0.18574245, -0.06179678,  0.09744502,  0.08414495,\n",
       "        -0.05686766, -0.10189452,  0.09885303, -0.00050282,  0.04226704,\n",
       "        -0.07948659, -0.13867085,  0.13320348,  0.09920135, -0.02840594,\n",
       "        -0.07001024, -0.02078785,  0.1427006 , -0.07088247, -0.02933975,\n",
       "         0.10553508, -0.10298818,  0.1355815 ,  0.00647869, -0.13147381,\n",
       "        -0.01325406, -0.07783594,  0.10870134, -0.01158324, -0.02314669,\n",
       "         0.03861999,  0.07491621, -0.2175918 ], dtype=float32)}"
      ]
     },
     "execution_count": 12,
     "metadata": {},
     "output_type": "execute_result"
    }
   ],
   "source": [
    "database"
   ]
  },
  {
   "cell_type": "raw",
   "metadata": {},
   "source": [
    "let us say ashish comes at the door. The webcam captures his pic and stores it as 00000001.jpg"
   ]
  },
  {
   "cell_type": "code",
   "execution_count": 13,
   "metadata": {},
   "outputs": [],
   "source": [
    "enc1 = img_encoding('../data/ashish_lal/00000001.jpg', facenet)"
   ]
  },
  {
   "cell_type": "code",
   "execution_count": 17,
   "metadata": {},
   "outputs": [
    {
     "name": "stdout",
     "output_type": "stream",
     "text": [
      "0.41361955\n",
      "0.45113617\n",
      "0.53599936\n"
     ]
    }
   ],
   "source": [
    "print(findEuclideanDistance(enc1, database['ashish_lal']))\n",
    "print(findEuclideanDistance(enc1, database['ivan_mihalj']))\n",
    "print(findEuclideanDistance(enc1, database['alan_grant']))"
   ]
  },
  {
   "cell_type": "code",
   "execution_count": 18,
   "metadata": {},
   "outputs": [
    {
     "name": "stdout",
     "output_type": "stream",
     "text": [
      "0.08554059267044067\n",
      "0.10176187753677368\n",
      "0.1436476707458496\n"
     ]
    }
   ],
   "source": [
    "print(findCosineSimilarity(enc1, database['ashish_lal']))\n",
    "print(findCosineSimilarity(enc1, database['ivan_mihalj']))\n",
    "print(findCosineSimilarity(enc1, database['alan_grant']))"
   ]
  },
  {
   "cell_type": "code",
   "execution_count": null,
   "metadata": {},
   "outputs": [],
   "source": []
  }
 ],
 "metadata": {
  "kernelspec": {
   "display_name": "face",
   "language": "python",
   "name": "face"
  },
  "language_info": {
   "codemirror_mode": {
    "name": "ipython",
    "version": 3
   },
   "file_extension": ".py",
   "mimetype": "text/x-python",
   "name": "python",
   "nbconvert_exporter": "python",
   "pygments_lexer": "ipython3",
   "version": "3.6.3"
  }
 },
 "nbformat": 4,
 "nbformat_minor": 2
}
